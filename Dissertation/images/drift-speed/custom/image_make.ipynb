{
 "cells": [
  {
   "cell_type": "code",
   "execution_count": 1,
   "metadata": {},
   "outputs": [],
   "source": [
    "import matplotlib.pyplot as plt\n",
    "import matplotlib\n",
    "from pathlib2 import Path\n",
    "import numpy as np\n",
    "import pandas as pd"
   ]
  },
  {
   "cell_type": "code",
   "execution_count": 2,
   "metadata": {},
   "outputs": [],
   "source": [
    "figures_dir = Path('')"
   ]
  },
  {
   "cell_type": "code",
   "execution_count": 18,
   "metadata": {},
   "outputs": [
    {
     "name": "stdout",
     "output_type": "stream",
     "text": [
      "trajectory_va\n"
     ]
    }
   ],
   "source": [
    "#matplotlib.rc('font', **font)\n",
    "#matplotlib.rcParams[\"text.usetex\"] = True\n",
    "\n",
    "matplotlib.use(\"pgf\")\n",
    "\n",
    "matplotlib.rcParams.update({\n",
    "    'font.family': 'serif',\n",
    "    'text.usetex': True,\n",
    "    'pgf.rcfonts': False,\n",
    "    'pgf.texsystem': 'lualatex',\n",
    "    'pgf.preamble': r'\\usepackage{fontspec} \\setmainfont{Times New Roman} \\usepackage{amsmath}',\n",
    "})\n",
    "matplotlib.rc('text.latex',preamble=r'\\usepackage[utf8]{inputenc}')\n",
    "matplotlib.rc('text.latex',preamble=r'\\usepackage[russian]{babel} \\usepackage{amsmath}')\n",
    "\n",
    "def read_data():\n",
    "    df_coords = pd.read_csv('coords.dat', index_col=False, sep=' ')\n",
    "    \n",
    "    return \n",
    "\n",
    "\n",
    "def make_plot():\n",
    "    fig = plt.figure(figsize=(6, 4), dpi=300)\n",
    "    plt.xlabel(r'$x, \\textrm{мкм}$')\n",
    "    plt.ylabel(r'$y, \\textrm{мкм}$', rotation=0)\n",
    "    plt.axis('equal')\n",
    "    plt.xlim([300, 360])\n",
    "    plt.ylim([160, 220])\n",
    "    \n",
    "    plt.gca().yaxis.set_label_coords(-0.12, 0.5)\n",
    "    plt.xticks(np.arange(300, 361, 20))\n",
    "    plt.yticks(np.arange(160, 221, 10))\n",
    "\n",
    "    \n",
    "\n",
    "from matplotlib.backends.backend_pdf import PdfPages\n",
    "path_figure = figures_dir / \"trajectory_va\"\n",
    "print(path_figure)\n",
    "with PdfPages(path_figure.with_suffix('.pdf')) as pdf:\n",
    "    fig = make_plot()\n",
    "    #fig.savefig(path_figure.with_suffix('.png'), bbox_inches='tight')\n",
    "    #fig.savefig(path_figure.with_suffix('.svg'))\n",
    "    pdf.savefig(fig, bbox_inches='tight')"
   ]
  },
  {
   "cell_type": "code",
   "execution_count": 146,
   "metadata": {},
   "outputs": [],
   "source": [
    "df_binomial, df_y_init, df_reactions, df_markov = read_data()"
   ]
  },
  {
   "cell_type": "code",
   "execution_count": 151,
   "metadata": {},
   "outputs": [
    {
     "data": {
      "text/plain": [
       "0      6.902010e-02\n",
       "1      6.763535e-02\n",
       "2      6.645404e-02\n",
       "3      6.507289e-02\n",
       "4      6.331000e-02\n",
       "           ...     \n",
       "295    2.651082e-07\n",
       "296    2.113495e-07\n",
       "297    2.065386e-07\n",
       "298    1.562611e-07\n",
       "299    1.475799e-07\n",
       "Name: pdf_log_ccw, Length: 300, dtype: float64"
      ]
     },
     "execution_count": 151,
     "metadata": {},
     "output_type": "execute_result"
    }
   ],
   "source": [
    "x_diff = np.diff(df_reactions['x_log_ccw'])\n",
    "x_diff = np.r_[x_diff, x_diff[-1]]\n",
    "    \n",
    "df_reactions['pdf_log_ccw'] = df_reactions['cnt_log_ccw'] / x_diff / df_reactions['cnt_log_ccw'].sum()\n",
    "norm = (df_reactions['pdf_log_ccw'] * df_reactions['x_log_ccw']).sum()\n",
    "df_reactions['pdf_log_ccw'] /= norm\n",
    "df_reactions['pdf_log_ccw']"
   ]
  },
  {
   "cell_type": "code",
   "execution_count": 148,
   "metadata": {},
   "outputs": [
    {
     "data": {
      "text/plain": [
       "array([0.0023293 , 0.00238356, 0.00243908, 0.00249589, 0.00255403,\n",
       "       0.00261352, 0.00267439, 0.00273669, 0.00280043, 0.00286566,\n",
       "       0.00293241, 0.00300072, 0.00307061, 0.00314214, 0.00321533,\n",
       "       0.00329022, 0.00336686, 0.00344529, 0.00352554, 0.00360766,\n",
       "       0.00369169, 0.00377768, 0.00386567, 0.00395572, 0.00404786,\n",
       "       0.00414214, 0.00423863, 0.00433736, 0.00443839, 0.00454177,\n",
       "       0.00464756, 0.00475582, 0.0048666 , 0.00497995, 0.00509595,\n",
       "       0.00521465, 0.00533612, 0.00546041, 0.0055876 , 0.00571775,\n",
       "       0.00585094, 0.00598722, 0.00612668, 0.00626939, 0.00641542,\n",
       "       0.00656486, 0.00671777, 0.00687425, 0.00703437, 0.00719822,\n",
       "       0.00736589, 0.00753746, 0.00771303, 0.00789269, 0.00807654,\n",
       "       0.00826467, 0.00845717, 0.00865417, 0.00885575, 0.00906203,\n",
       "       0.00927311, 0.00948911, 0.00971014, 0.00993631, 0.01016776,\n",
       "       0.0104046 , 0.01064695, 0.01089495, 0.01114873, 0.01140841,\n",
       "       0.01167415, 0.01194608, 0.01222434, 0.01250908, 0.01280045,\n",
       "       0.01309861, 0.01340372, 0.01371593, 0.01403542, 0.01436234,\n",
       "       0.01469688, 0.01503922, 0.01538953, 0.015748  , 0.01611481,\n",
       "       0.01649018, 0.01687428, 0.01726733, 0.01766954, 0.01808112,\n",
       "       0.01850228, 0.01893325, 0.01937427, 0.01982555, 0.02028735,\n",
       "       0.0207599 , 0.02124346, 0.02173829, 0.02224463, 0.02276278,\n",
       "       0.02329299, 0.02383556, 0.02439076, 0.02495889, 0.02554026,\n",
       "       0.02613517, 0.02674393, 0.02736688, 0.02800434, 0.02865664,\n",
       "       0.02932414, 0.03000719, 0.03070614, 0.03142138, 0.03215328,\n",
       "       0.03290223, 0.03366862, 0.03445286, 0.03525537, 0.03607657,\n",
       "       0.0369169 , 0.03777681, 0.03865675, 0.03955718, 0.04047858,\n",
       "       0.04142145, 0.04238628, 0.04337358, 0.04438388, 0.04541772,\n",
       "       0.04647563, 0.04755819, 0.04866596, 0.04979953, 0.05095951,\n",
       "       0.05214651, 0.05336116, 0.0546041 , 0.055876  , 0.05717752,\n",
       "       0.05850935, 0.05987221, 0.06126681, 0.0626939 , 0.06415423,\n",
       "       0.06564857, 0.06717772, 0.06874249, 0.07034371, 0.07198223,\n",
       "       0.07365891, 0.07537465, 0.07713035, 0.07892694, 0.08076539,\n",
       "       0.08264666, 0.08457174, 0.08654167, 0.08855749, 0.09062026,\n",
       "       0.09273107, 0.09489106, 0.09710135, 0.09936313, 0.1016776 ,\n",
       "       0.10404597, 0.10646952, 0.10894951, 0.11148727, 0.11408414,\n",
       "       0.1167415 , 0.11946076, 0.12224336, 0.12509077, 0.12800451,\n",
       "       0.13098612, 0.13403718, 0.13715931, 0.14035416, 0.14362343,\n",
       "       0.14696885, 0.15039219, 0.15389527, 0.15747996, 0.16114813,\n",
       "       0.16490176, 0.16874281, 0.17267334, 0.17669542, 0.18081118,\n",
       "       0.18502281, 0.18933255, 0.19374267, 0.19825552, 0.20287348,\n",
       "       0.20759901, 0.21243461, 0.21738285, 0.22244635, 0.22762779,\n",
       "       0.23292992, 0.23835556, 0.24390757, 0.24958891, 0.25540258,\n",
       "       0.26135167, 0.26743933, 0.2736688 , 0.28004336, 0.28656641,\n",
       "       0.2932414 , 0.30007187, 0.30706144, 0.31421382, 0.3215328 ,\n",
       "       0.32902226, 0.33668617, 0.3445286 , 0.3525537 , 0.36076574,\n",
       "       0.36916905, 0.3777681 , 0.38656745, 0.39557176, 0.40478581,\n",
       "       0.41421449, 0.42386278, 0.43373581, 0.44383882, 0.45417715,\n",
       "       0.4647563 , 0.47558186, 0.48665959, 0.49799534, 0.50959515,\n",
       "       0.52146514, 0.53361163, 0.54604104, 0.55875997, 0.57177516,\n",
       "       0.58509351, 0.59872209, 0.61266812, 0.62693899, 0.64154228,\n",
       "       0.65648572, 0.67177724, 0.68742494, 0.70343712, 0.71982228,\n",
       "       0.73658909, 0.75374646, 0.77130347, 0.78926943, 0.80765388,\n",
       "       0.82646655, 0.84571743, 0.86541672, 0.88557487, 0.90620256,\n",
       "       0.92731073, 0.94891057, 0.97101353, 0.99363134, 1.01677599,\n",
       "       1.04045975, 1.06469517, 1.0894951 , 1.1148727 , 1.14084143,\n",
       "       1.16741504, 1.19460763, 1.22243361, 1.25090775, 1.28004513,\n",
       "       1.30986121, 1.3403718 , 1.37159307, 1.40354158, 1.43623426,\n",
       "       1.46968846, 1.5039219 , 1.53895274, 1.57479955, 1.61148135,\n",
       "       1.64901757, 1.68742812, 1.72673337, 1.76695416, 1.80811181,\n",
       "       1.85022814, 1.89332549, 1.93742671, 1.98255518, 2.02873482,\n",
       "       2.07599012, 2.12434614, 2.17382852, 2.22446349, 0.        ])"
      ]
     },
     "execution_count": 148,
     "metadata": {},
     "output_type": "execute_result"
    }
   ],
   "source": [
    "x_diff"
   ]
  },
  {
   "cell_type": "code",
   "execution_count": 13,
   "metadata": {},
   "outputs": [
    {
     "name": "stderr",
     "output_type": "stream",
     "text": [
      "C:\\Users\\mike_live\\AppData\\Local\\Temp\\ipykernel_3340\\2122436968.py:1: UserWarning: Matplotlib is currently using pgf, which is a non-GUI backend, so cannot show the figure.\n",
      "  plt.show()\n"
     ]
    }
   ],
   "source": [
    "plt.show()"
   ]
  }
 ],
 "metadata": {
  "kernelspec": {
   "display_name": "base",
   "language": "python",
   "name": "python3"
  },
  "language_info": {
   "codemirror_mode": {
    "name": "ipython",
    "version": 3
   },
   "file_extension": ".py",
   "mimetype": "text/x-python",
   "name": "python",
   "nbconvert_exporter": "python",
   "pygments_lexer": "ipython3",
   "version": "3.9.7"
  },
  "orig_nbformat": 4
 },
 "nbformat": 4,
 "nbformat_minor": 2
}
