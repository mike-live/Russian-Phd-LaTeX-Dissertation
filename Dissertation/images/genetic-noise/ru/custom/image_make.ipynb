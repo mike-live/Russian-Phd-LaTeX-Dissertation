{
 "cells": [
  {
   "cell_type": "code",
   "execution_count": 36,
   "metadata": {},
   "outputs": [],
   "source": [
    "import matplotlib.pyplot as plt\n",
    "import matplotlib\n",
    "from pathlib2 import Path\n",
    "import numpy as np\n",
    "import pandas as pd"
   ]
  },
  {
   "cell_type": "code",
   "execution_count": 37,
   "metadata": {},
   "outputs": [],
   "source": [
    "figures_dir = Path('')"
   ]
  },
  {
   "cell_type": "code",
   "execution_count": 175,
   "metadata": {},
   "outputs": [
    {
     "name": "stdout",
     "output_type": "stream",
     "text": [
      "gillespie_vs_full-counting\n",
      "150      1.0000\n",
      "151      1.0471\n",
      "152      1.0965\n",
      "153      1.1482\n",
      "154      1.2023\n",
      "         ...   \n",
      "295    794.3300\n",
      "296    831.7600\n",
      "297    870.9600\n",
      "298    912.0100\n",
      "299    954.9900\n",
      "Name: t, Length: 150, dtype: float64 150    0.13425\n",
      "151    0.12567\n",
      "152    0.11770\n",
      "153    0.11015\n",
      "154    0.10284\n",
      "        ...   \n",
      "295    0.00000\n",
      "296    0.00000\n",
      "297    0.00000\n",
      "298    0.00000\n",
      "299    0.00000\n",
      "Name: p, Length: 150, dtype: float64\n",
      "\n"
     ]
    }
   ],
   "source": [
    "\n",
    "font = {\n",
    "        'size'   : 12,\n",
    "        }\n",
    "\n",
    "#matplotlib.rc('font', **font)\n",
    "#matplotlib.rcParams[\"text.usetex\"] = True\n",
    "\n",
    "matplotlib.use(\"pgf\")\n",
    "\n",
    "matplotlib.rcParams.update({\n",
    "    'font.family': 'serif',\n",
    "    'text.usetex': True,\n",
    "    'pgf.rcfonts': False,\n",
    "    'pgf.texsystem': 'lualatex',\n",
    "    'pgf.preamble': r'\\usepackage{fontspec} \\setmainfont{Times New Roman} \\usepackage{amsmath}',\n",
    "})\n",
    "matplotlib.rc('text.latex',preamble=r'\\usepackage[utf8]{inputenc}')\n",
    "matplotlib.rc('text.latex',preamble=r'\\usepackage[russian]{babel} \\usepackage{amsmath}')\n",
    "\n",
    "def read_data():\n",
    "    df_binomial = pd.read_csv('p_binomial.dat', header=None, names=['Y', 'p'], index_col=False, sep=' ')\n",
    "    df_y_init = pd.read_csv('p_y_init_x_1.dat', header=None, names=['Y', 'p'], index_col=False, sep=' ')\n",
    "    df_reactions = pd.read_csv('ssa_4_reactions_pdf_tau_50_al_10_1_Y0_20.csv',sep=';')\n",
    "    df_reactions = pd.read_csv('ssa_4_reactions_pdf_tau_50_al_10_1_Y0_20_.csv',sep=';')\n",
    "    df_markov = pd.read_csv('markov.dat', header=None, names=['t', 'p'], index_col=False, sep=' ')\n",
    "    df_reactions = pd.read_csv('ssa_4_reactions_pdf_tau_50_al_10_0_Y0_20.csv',sep=';')\n",
    "    df_reactions = pd.read_csv('ssa_4_reactions_pdf_tau_50_al_10_0_Y0_20_CY_Inf.csv',sep=';')\n",
    "    df_reactions_data = pd.read_csv('ssa_4_reactions_pdf_tau_50_al_10_0_Y0_20.csv_ccw.dat', header=None, names=['t', 'p'], index_col=False, sep='\\t')\n",
    "    \n",
    "    return df_binomial, df_y_init, df_reactions, df_markov, df_reactions_data\n",
    "\n",
    "\n",
    "def make_plot():\n",
    "    fig = plt.figure(figsize=(6, 4), dpi=300)\n",
    "    ax = plt.gca()\n",
    "    df_binomial, df_y_init, df_reactions, df_markov, df_reactions_data = read_data()\n",
    "    mnorm = (df_markov['t'] * df_markov['p']).sum()\n",
    "    #plt.plot(df_y_init['Y'], df_y_init['p'], color='#1F78B4')\n",
    "    \n",
    "    t = np.linspace(1, 100, 2)\n",
    "    y = t ** -2.18# * 100\n",
    "    plt.plot(t, y, '--', color='#6A3D9A', lw=2, label='$t^{-\\gamma}$')\n",
    "\n",
    "    #plt.plot(df_reactions['x_ccw'], df_reactions['pdf_ccw'])\n",
    "    df_reactions = df_reactions[df_reactions['x_log_ccw'] >= 1]\n",
    "    x_diff = np.diff(df_reactions['x_log_ccw'])\n",
    "    x_diff = np.r_[x_diff, x_diff[-1]]\n",
    "    df_reactions['pdf_log_ccw'] = df_reactions['cnt_log_ccw'] / x_diff / df_reactions['cnt_log_ccw'].sum()\n",
    "    norm = (df_reactions['pdf_log_ccw'] * df_reactions['x_log_ccw']).sum()\n",
    "    df_reactions['pdf_log_ccw'] /= norm\n",
    "    #plt.plot(df_reactions['x_log_ccw'], df_reactions['pdf_log_ccw'], label='Алгоритм Гиллеспи', zorder=10)\n",
    "    \n",
    "    norm = (df_reactions_data['t'] * df_reactions_data['p']).sum()\n",
    "    #df_reactions_data['p'] /= mnorm\n",
    "    df_reactions_data = df_reactions_data[df_reactions_data['t'] >= 1]\n",
    "    print(df_reactions_data['t'], df_reactions_data['p'])\n",
    "    plt.plot(df_reactions_data['t'], df_reactions_data['p'], label='Алгоритм Гиллеспи', zorder=10)\n",
    "    \n",
    "    print()\n",
    "    \n",
    "    #df_markov['p'] /= mnorm\n",
    "    plt.plot(df_markov['t'], df_markov['p'], label='Статистика полного подсчета', lw=4, zorder=5)\n",
    "    \n",
    "    plt.text(20, 1e-2, r'$\\boldsymbol{\\gamma}\\mathbf{=2.18}$', color='#6A3D9A')\n",
    "    #plt.plot([1, 1000], [1e-15, 1e5], color='white')\n",
    "    plt.xscale('log')\n",
    "    plt.yscale('log')\n",
    "    plt.yticks([1e-15, 1e-10, 1e-5, 1, 1e5])\n",
    "    plt.ylim([1e-15, 1e5])\n",
    "    plt.xlim([0.5, 1e3])\n",
    "    plt.xlabel('Длительность, $t$')\n",
    "    plt.ylabel('$p(t)$', rotation=0)\n",
    "    plt.legend()\n",
    "    plt.grid('on')\n",
    "\n",
    "    ax = plt.axes([0.28, 0.23, 0.25, 0.25])\n",
    "    \n",
    "    #ax.plot(df_binomial['Y'], df_binomial['p'], color='#1F78B4')\n",
    "    ax.plot(df_y_init['Y'], df_y_init['p'], color='#1F78B4', lw=2)\n",
    "    ax.set_ylim([-0.001, 0.13])\n",
    "    ax.set_ylabel('$P_S(Y)$', rotation=0, loc='center')\n",
    "    ax.yaxis.set_label_coords(-.45, .45)\n",
    "    ax.set_xlabel('$Y$')\n",
    "    ax.set_xticks(np.arange(0, 41, 10))\n",
    "    ax.set_xlim([0, 45])\n",
    "    \n",
    "\n",
    "from matplotlib.backends.backend_pdf import PdfPages\n",
    "path_figure = figures_dir / \"gillespie_vs_full-counting\"\n",
    "print(path_figure)\n",
    "with PdfPages(path_figure.with_suffix('.pdf')) as pdf:\n",
    "    fig = make_plot()\n",
    "    #fig.savefig(path_figure.with_suffix('.png'), bbox_inches='tight')\n",
    "    #fig.savefig(path_figure.with_suffix('.svg'))\n",
    "    pdf.savefig(fig, bbox_inches='tight')"
   ]
  },
  {
   "cell_type": "code",
   "execution_count": 146,
   "metadata": {},
   "outputs": [],
   "source": [
    "df_binomial, df_y_init, df_reactions, df_markov = read_data()"
   ]
  },
  {
   "cell_type": "code",
   "execution_count": 151,
   "metadata": {},
   "outputs": [
    {
     "data": {
      "text/plain": [
       "0      6.902010e-02\n",
       "1      6.763535e-02\n",
       "2      6.645404e-02\n",
       "3      6.507289e-02\n",
       "4      6.331000e-02\n",
       "           ...     \n",
       "295    2.651082e-07\n",
       "296    2.113495e-07\n",
       "297    2.065386e-07\n",
       "298    1.562611e-07\n",
       "299    1.475799e-07\n",
       "Name: pdf_log_ccw, Length: 300, dtype: float64"
      ]
     },
     "execution_count": 151,
     "metadata": {},
     "output_type": "execute_result"
    }
   ],
   "source": [
    "x_diff = np.diff(df_reactions['x_log_ccw'])\n",
    "x_diff = np.r_[x_diff, x_diff[-1]]\n",
    "    \n",
    "df_reactions['pdf_log_ccw'] = df_reactions['cnt_log_ccw'] / x_diff / df_reactions['cnt_log_ccw'].sum()\n",
    "norm = (df_reactions['pdf_log_ccw'] * df_reactions['x_log_ccw']).sum()\n",
    "df_reactions['pdf_log_ccw'] /= norm\n",
    "df_reactions['pdf_log_ccw']"
   ]
  },
  {
   "cell_type": "code",
   "execution_count": 148,
   "metadata": {},
   "outputs": [
    {
     "data": {
      "text/plain": [
       "array([0.0023293 , 0.00238356, 0.00243908, 0.00249589, 0.00255403,\n",
       "       0.00261352, 0.00267439, 0.00273669, 0.00280043, 0.00286566,\n",
       "       0.00293241, 0.00300072, 0.00307061, 0.00314214, 0.00321533,\n",
       "       0.00329022, 0.00336686, 0.00344529, 0.00352554, 0.00360766,\n",
       "       0.00369169, 0.00377768, 0.00386567, 0.00395572, 0.00404786,\n",
       "       0.00414214, 0.00423863, 0.00433736, 0.00443839, 0.00454177,\n",
       "       0.00464756, 0.00475582, 0.0048666 , 0.00497995, 0.00509595,\n",
       "       0.00521465, 0.00533612, 0.00546041, 0.0055876 , 0.00571775,\n",
       "       0.00585094, 0.00598722, 0.00612668, 0.00626939, 0.00641542,\n",
       "       0.00656486, 0.00671777, 0.00687425, 0.00703437, 0.00719822,\n",
       "       0.00736589, 0.00753746, 0.00771303, 0.00789269, 0.00807654,\n",
       "       0.00826467, 0.00845717, 0.00865417, 0.00885575, 0.00906203,\n",
       "       0.00927311, 0.00948911, 0.00971014, 0.00993631, 0.01016776,\n",
       "       0.0104046 , 0.01064695, 0.01089495, 0.01114873, 0.01140841,\n",
       "       0.01167415, 0.01194608, 0.01222434, 0.01250908, 0.01280045,\n",
       "       0.01309861, 0.01340372, 0.01371593, 0.01403542, 0.01436234,\n",
       "       0.01469688, 0.01503922, 0.01538953, 0.015748  , 0.01611481,\n",
       "       0.01649018, 0.01687428, 0.01726733, 0.01766954, 0.01808112,\n",
       "       0.01850228, 0.01893325, 0.01937427, 0.01982555, 0.02028735,\n",
       "       0.0207599 , 0.02124346, 0.02173829, 0.02224463, 0.02276278,\n",
       "       0.02329299, 0.02383556, 0.02439076, 0.02495889, 0.02554026,\n",
       "       0.02613517, 0.02674393, 0.02736688, 0.02800434, 0.02865664,\n",
       "       0.02932414, 0.03000719, 0.03070614, 0.03142138, 0.03215328,\n",
       "       0.03290223, 0.03366862, 0.03445286, 0.03525537, 0.03607657,\n",
       "       0.0369169 , 0.03777681, 0.03865675, 0.03955718, 0.04047858,\n",
       "       0.04142145, 0.04238628, 0.04337358, 0.04438388, 0.04541772,\n",
       "       0.04647563, 0.04755819, 0.04866596, 0.04979953, 0.05095951,\n",
       "       0.05214651, 0.05336116, 0.0546041 , 0.055876  , 0.05717752,\n",
       "       0.05850935, 0.05987221, 0.06126681, 0.0626939 , 0.06415423,\n",
       "       0.06564857, 0.06717772, 0.06874249, 0.07034371, 0.07198223,\n",
       "       0.07365891, 0.07537465, 0.07713035, 0.07892694, 0.08076539,\n",
       "       0.08264666, 0.08457174, 0.08654167, 0.08855749, 0.09062026,\n",
       "       0.09273107, 0.09489106, 0.09710135, 0.09936313, 0.1016776 ,\n",
       "       0.10404597, 0.10646952, 0.10894951, 0.11148727, 0.11408414,\n",
       "       0.1167415 , 0.11946076, 0.12224336, 0.12509077, 0.12800451,\n",
       "       0.13098612, 0.13403718, 0.13715931, 0.14035416, 0.14362343,\n",
       "       0.14696885, 0.15039219, 0.15389527, 0.15747996, 0.16114813,\n",
       "       0.16490176, 0.16874281, 0.17267334, 0.17669542, 0.18081118,\n",
       "       0.18502281, 0.18933255, 0.19374267, 0.19825552, 0.20287348,\n",
       "       0.20759901, 0.21243461, 0.21738285, 0.22244635, 0.22762779,\n",
       "       0.23292992, 0.23835556, 0.24390757, 0.24958891, 0.25540258,\n",
       "       0.26135167, 0.26743933, 0.2736688 , 0.28004336, 0.28656641,\n",
       "       0.2932414 , 0.30007187, 0.30706144, 0.31421382, 0.3215328 ,\n",
       "       0.32902226, 0.33668617, 0.3445286 , 0.3525537 , 0.36076574,\n",
       "       0.36916905, 0.3777681 , 0.38656745, 0.39557176, 0.40478581,\n",
       "       0.41421449, 0.42386278, 0.43373581, 0.44383882, 0.45417715,\n",
       "       0.4647563 , 0.47558186, 0.48665959, 0.49799534, 0.50959515,\n",
       "       0.52146514, 0.53361163, 0.54604104, 0.55875997, 0.57177516,\n",
       "       0.58509351, 0.59872209, 0.61266812, 0.62693899, 0.64154228,\n",
       "       0.65648572, 0.67177724, 0.68742494, 0.70343712, 0.71982228,\n",
       "       0.73658909, 0.75374646, 0.77130347, 0.78926943, 0.80765388,\n",
       "       0.82646655, 0.84571743, 0.86541672, 0.88557487, 0.90620256,\n",
       "       0.92731073, 0.94891057, 0.97101353, 0.99363134, 1.01677599,\n",
       "       1.04045975, 1.06469517, 1.0894951 , 1.1148727 , 1.14084143,\n",
       "       1.16741504, 1.19460763, 1.22243361, 1.25090775, 1.28004513,\n",
       "       1.30986121, 1.3403718 , 1.37159307, 1.40354158, 1.43623426,\n",
       "       1.46968846, 1.5039219 , 1.53895274, 1.57479955, 1.61148135,\n",
       "       1.64901757, 1.68742812, 1.72673337, 1.76695416, 1.80811181,\n",
       "       1.85022814, 1.89332549, 1.93742671, 1.98255518, 2.02873482,\n",
       "       2.07599012, 2.12434614, 2.17382852, 2.22446349, 0.        ])"
      ]
     },
     "execution_count": 148,
     "metadata": {},
     "output_type": "execute_result"
    }
   ],
   "source": [
    "x_diff"
   ]
  },
  {
   "cell_type": "code",
   "execution_count": 13,
   "metadata": {},
   "outputs": [
    {
     "name": "stderr",
     "output_type": "stream",
     "text": [
      "C:\\Users\\mike_live\\AppData\\Local\\Temp\\ipykernel_3340\\2122436968.py:1: UserWarning: Matplotlib is currently using pgf, which is a non-GUI backend, so cannot show the figure.\n",
      "  plt.show()\n"
     ]
    }
   ],
   "source": [
    "plt.show()"
   ]
  }
 ],
 "metadata": {
  "kernelspec": {
   "display_name": "base",
   "language": "python",
   "name": "python3"
  },
  "language_info": {
   "codemirror_mode": {
    "name": "ipython",
    "version": 3
   },
   "file_extension": ".py",
   "mimetype": "text/x-python",
   "name": "python",
   "nbconvert_exporter": "python",
   "pygments_lexer": "ipython3",
   "version": "3.8.8"
  },
  "orig_nbformat": 4
 },
 "nbformat": 4,
 "nbformat_minor": 2
}
